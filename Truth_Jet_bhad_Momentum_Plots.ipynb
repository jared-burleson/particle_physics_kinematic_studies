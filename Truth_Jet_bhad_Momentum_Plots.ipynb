{
 "cells": [
  {
   "cell_type": "code",
   "execution_count": null,
   "metadata": {},
   "outputs": [],
   "source": [
    "import pandas as pd\n",
    "import math\n",
    "import matplotlib.pyplot as plt\n",
    "import matplotlib.ticker as ticker\n",
    "import numpy as np\n",
    "from itertools import combinations\n",
    "from mpl_toolkits.mplot3d import Axes3D\n",
    "\n",
    "import_file_hgg_Dframe = 'Truth_Jet_Detector_Reference_Frame_Data/hgg_truth_jet_information_4_bhad.csv'\n",
    "import_file_hbb_Dframe = 'Truth_Jet_Detector_Reference_Frame_Data/hbb_truth_jet_information_4_bhad.csv'\n",
    "\n",
    "import_file_lists = [import_file_hgg_Dframe, import_file_hbb_Dframe]\n",
    "savefig_file_lists = [\"Truth_Jet_Detector_Reference_Frame_Plots/Hgg_Momentum_Vectors/Event\",\"Truth_Jet_Detector_Reference_Frame_Plots/Hbb_Momentum_Vectors/Event\"]\n",
    "title_lists = [\"Hgg\",\"Hbb\"]\n",
    "\n",
    "for i in range(len(import_file_lists)):\n",
    "    data = pd.read_csv(import_file_lists[i])\n",
    "    \n",
    "    for j in range(len(data)):\n",
    "        #Plotting the 3d momentum vectors for each bhadron in an event with 4 bhadrons\n",
    "        plt.clf()\n",
    "        fig = plt.figure()\n",
    "        ax = fig.add_subplot(111, projection='3d')\n",
    "        ax.plot([0,data[\"bhad1_px\"][j]],[0,data[\"bhad1_py\"][j]],[0,data[\"bhad1_pz\"][j]])\n",
    "        ax.plot([0,data[\"bhad2_px\"][j]],[0,data[\"bhad2_py\"][j]],[0,data[\"bhad2_pz\"][j]])\n",
    "        ax.plot([0,data[\"bhad3_px\"][j]],[0,data[\"bhad3_py\"][j]],[0,data[\"bhad3_pz\"][j]])\n",
    "        ax.plot([0,data[\"bhad4_px\"][j]],[0,data[\"bhad4_py\"][j]],[0,data[\"bhad4_pz\"][j]])\n",
    "        ax.set_xlabel(\"Momentum (MeV) in X\", rotation = 0)\n",
    "        ax.set_ylabel(\"Momentum (MeV) in Y\", rotation = 0)\n",
    "        ax.set_zlabel(\"Momentum (MeV) in Z\", rotation = 0)\n",
    "        plt.title(str(title_lists[i]) + \"Truth Jet Momentum Plot: Event #\"+str(data[\"event_ID\"][j]))\n",
    "        plt.legend(('bhad1','bhad2','bhad3','bhad4'))\n",
    "        fig.tight_layout()\n",
    "        plt.savefig(str(savefig_file_lists[i])+str(data[\"event_ID\"][j])+\".png\", dpi=300, bbox_inches='tight') #Saves figures out to a file path inside the main folder"
   ]
  },
  {
   "cell_type": "code",
   "execution_count": null,
   "metadata": {},
   "outputs": [],
   "source": []
  }
 ],
 "metadata": {
  "kernelspec": {
   "display_name": "Python 3",
   "language": "python",
   "name": "python3"
  },
  "language_info": {
   "codemirror_mode": {
    "name": "ipython",
    "version": 3
   },
   "file_extension": ".py",
   "mimetype": "text/x-python",
   "name": "python",
   "nbconvert_exporter": "python",
   "pygments_lexer": "ipython3",
   "version": "3.7.3"
  }
 },
 "nbformat": 4,
 "nbformat_minor": 2
}
